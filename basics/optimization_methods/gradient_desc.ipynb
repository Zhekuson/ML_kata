{
 "cells": [
  {
   "cell_type": "markdown",
   "metadata": {
    "pycharm": {
     "name": "#%% md\n"
    }
   },
   "source": [
    "# Gradient descent (vanilla)"
   ]
  },
  {
   "cell_type": "markdown",
   "metadata": {
    "pycharm": {
     "name": "#%% md\n"
    }
   },
   "source": [
    "The main idea of this method is to find minimum following the anti-gradient.\n",
    "\n",
    "The **gradient** of the function (in a common sense) is a **vector** of derivatives with respect to different arguments of the function. Each partial derivative in this vector shows the speed of growth of the function by argument. The vector itself shows the direction in which the function grows fastest\n"
   ]
  },
  {
   "cell_type": "markdown",
   "metadata": {
    "pycharm": {
     "name": "#%% md\n"
    }
   },
   "source": [
    "Let's consider an example $f(x) = x^2 + x - 6$\n",
    "\n",
    "It has only one argument so its gradient will consist of only one variable\n",
    "\n",
    "$\\nabla f (x) = [2x + 1]$\n"
   ]
  },
  {
   "cell_type": "code",
   "execution_count": 3,
   "metadata": {
    "pycharm": {
     "name": "#%%\n"
    }
   },
   "outputs": [],
   "source": [
    "import numpy as np\n",
    "import matplotlib.pyplot as plt\n",
    "from matplotlib.animation import FuncAnimation\n",
    "%matplotlib notebook"
   ]
  },
  {
   "cell_type": "code",
   "execution_count": 4,
   "metadata": {
    "pycharm": {
     "name": "#%%\n"
    }
   },
   "outputs": [],
   "source": [
    "\n",
    "def f_x(x):\n",
    "    return x ** 2 + x - 6\n",
    "def grad_f(x):\n",
    "    return 2*x + 1"
   ]
  },
  {
   "cell_type": "code",
   "execution_count": null,
   "metadata": {
    "collapsed": false,
    "pycharm": {
     "name": "#%%\n"
    }
   },
   "outputs": [],
   "source": [
    "\n",
    "fig, ax = plt.subplots(figsize=(10,7))\n",
    "t = np.linspace(-7, 7)\n",
    "x = []\n",
    "y = []\n",
    "# function that draws each frame of the animation\n",
    "def animate(i):\n",
    "    x.append(t[i])\n",
    "    y.append(f_x(t[i]))\n",
    "\n",
    "    ax.clear()\n",
    "    ax.plot(x, y)\n",
    "    ax.arrow(t[i],f_x(t[i]), grad_f(t[i]), 0, color='r', head_width=0.7, lw=2)\n",
    "\n",
    "\n",
    "ani = FuncAnimation(fig, animate, frames=len(t), interval=500)\n",
    "plt.show()"
   ]
  },
  {
   "cell_type": "code",
   "execution_count": null,
   "metadata": {
    "collapsed": false,
    "pycharm": {
     "name": "#%%\n"
    }
   },
   "outputs": [],
   "source": []
  },
  {
   "cell_type": "code",
   "execution_count": null,
   "metadata": {
    "pycharm": {
     "name": "#%%\n"
    }
   },
   "outputs": [],
   "source": []
  },
  {
   "cell_type": "code",
   "execution_count": null,
   "metadata": {
    "pycharm": {
     "name": "#%%\n"
    }
   },
   "outputs": [],
   "source": []
  }
 ],
 "metadata": {
  "kernelspec": {
   "display_name": "Python 3 (ipykernel)",
   "language": "python",
   "name": "python3"
  },
  "language_info": {
   "codemirror_mode": {
    "name": "ipython",
    "version": 3
   },
   "file_extension": ".py",
   "mimetype": "text/x-python",
   "name": "python",
   "nbconvert_exporter": "python",
   "pygments_lexer": "ipython3",
   "version": "3.9.5"
  }
 },
 "nbformat": 4,
 "nbformat_minor": 1
}